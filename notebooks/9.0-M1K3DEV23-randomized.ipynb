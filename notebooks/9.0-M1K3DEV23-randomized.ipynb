{
 "cells": [
  {
   "cell_type": "code",
   "execution_count": 1,
   "metadata": {},
   "outputs": [],
   "source": [
    "%load_ext autoreload\n",
    "%autoreload 3"
   ]
  },
  {
   "cell_type": "code",
   "execution_count": 2,
   "metadata": {},
   "outputs": [],
   "source": [
    "import os\n",
    "import sys\n",
    "\n",
    "sys.path.append(os.path.dirname(os.path.abspath(os.path.abspath(\"\"))))"
   ]
  },
  {
   "cell_type": "markdown",
   "metadata": {},
   "source": [
    "# Implementación de Randomized\n",
    "\n",
    "Lo importante para la implementación en código de [RandomizedSearchCV](https://scikit-learn.org/stable/modules/generated/sklearn.model_selection.RandomizedSearchCV.html) es que cuando elijamos un modelo a optimizar, en este caso [RandomForestRegressor](https://scikit-learn.org/stable/modules/generated/sklearn.ensemble.RandomForestRegressor.html) vayamos a su documentación y observemos todos sus parámetros configurables:\n",
    "\n",
    "```python\n",
    "Parameters:\n",
    "n_estimatorsint, default=100\n",
    "\n",
    "criterion{“squared_error”, “absolute_error”, “friedman_mse”, “poisson”}, default=”squared_error”\n",
    "\n",
    "max_depthint, default=None\n",
    "\n",
    "min_samples_splitint or float, default=2\n",
    "\n",
    "ETC\n",
    "```\n"
   ]
  },
  {
   "cell_type": "code",
   "execution_count": 3,
   "metadata": {},
   "outputs": [],
   "source": [
    "import pandas as pd\n",
    "from sklearn.model_selection import RandomizedSearchCV\n",
    "from sklearn.ensemble import RandomForestRegressor"
   ]
  },
  {
   "cell_type": "code",
   "execution_count": 4,
   "metadata": {},
   "outputs": [],
   "source": [
    "dataset = pd.read_csv(\"../data/felicidad.csv\")\n",
    "# La razon de elimina el rank y el score,\n",
    "# Es porque se quiere que los features no tegan ninguna corelacion entre ellos.\n",
    "# Lo ideal es que exista correlacion solo entre las features y la variable objetivo.\n",
    "data = dataset.drop([\"country\", \"rank\", \"score\"], axis=1)\n",
    "target = dataset[\"score\"]"
   ]
  },
  {
   "cell_type": "markdown",
   "metadata": {},
   "source": [
    "Con base en estos parámetros ajustables podemos crear nuestra grilla de combinaciones:\n"
   ]
  },
  {
   "cell_type": "code",
   "execution_count": 5,
   "metadata": {},
   "outputs": [],
   "source": [
    "parameters = {\n",
    "    \"n_estimators\": range(4, 16),\n",
    "    \"criterion\": [\"friedman_mse\", \"squared_error\", \"poisson\", \"absolute_error\"],\n",
    "    \"max_depth\": range(2, 11),\n",
    "}"
   ]
  },
  {
   "cell_type": "markdown",
   "metadata": {},
   "source": [
    "Y finalmente entrenar a nuestro metaclasificador utilizando RandomizedSerachCV\n"
   ]
  },
  {
   "cell_type": "code",
   "execution_count": 7,
   "metadata": {},
   "outputs": [
    {
     "name": "stdout",
     "output_type": "stream",
     "text": [
      "================================================================\n",
      "Mejores estimadores: \n",
      "----------------------------------------------------------------\n",
      "RandomForestRegressor(criterion='friedman_mse', max_depth=8, n_estimators=7)\n",
      "================================================================\n",
      "Mejores parametros: \n",
      "----------------------------------------------------------------\n",
      "{'n_estimators': 7, 'max_depth': 8, 'criterion': 'friedman_mse'}\n",
      "================================================================\n",
      "Pruebas\n",
      "----------------------------------------------------------------\n",
      "Predict: 7.4768571852857155\n",
      "Real: 7.537000179\n",
      "================================================================\n"
     ]
    }
   ],
   "source": [
    "reg = RandomForestRegressor()\n",
    "\n",
    "rand_est = RandomizedSearchCV(\n",
    "    reg, parameters, n_iter=10, cv=3, scoring=\"neg_mean_squared_error\", random_state=42\n",
    ")\n",
    "rand_est.fit(data, target)\n",
    "print(\"=\" * 64)\n",
    "print(\"Mejores estimadores: \")\n",
    "print(\"-\" * 64)\n",
    "print(rand_est.best_estimator_)\n",
    "print(\"=\" * 64)\n",
    "print(\"Mejores parametros: \")\n",
    "print(\"-\" * 64)\n",
    "print(rand_est.best_params_)\n",
    "print(\"=\" * 64)\n",
    "print(\"Pruebas\")\n",
    "print(\"-\" * 64)\n",
    "y_hat = rand_est.predict(data.loc[[0]])\n",
    "print(f\"Predict: {y_hat[0]}\")\n",
    "print(f\"Real: {target[0]}\")\n",
    "print(\"=\" * 64)"
   ]
  }
 ],
 "metadata": {
  "kernelspec": {
   "display_name": "venv",
   "language": "python",
   "name": "python3"
  },
  "language_info": {
   "codemirror_mode": {
    "name": "ipython",
    "version": 3
   },
   "file_extension": ".py",
   "mimetype": "text/x-python",
   "name": "python",
   "nbconvert_exporter": "python",
   "pygments_lexer": "ipython3",
   "version": "3.11.8"
  }
 },
 "nbformat": 4,
 "nbformat_minor": 2
}
