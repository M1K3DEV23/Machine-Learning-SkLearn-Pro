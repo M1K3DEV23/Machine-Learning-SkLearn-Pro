{
 "cells": [
  {
   "cell_type": "code",
   "execution_count": 1,
   "metadata": {},
   "outputs": [],
   "source": [
    "%load_ext autoreload\n",
    "%autoreload 3"
   ]
  },
  {
   "cell_type": "code",
   "execution_count": null,
   "metadata": {},
   "outputs": [],
   "source": [
    "import os\n",
    "import sys\n",
    "\n",
    "sys.path.append(os.path.dirname(os.path.abspath(os.path.abspath(\"\"))))"
   ]
  },
  {
   "cell_type": "markdown",
   "metadata": {},
   "source": [
    "# Implementación de K-folds cross validation\n",
    "\n",
    "[Cross-validation: evaluating estimator performance](https://scikit-learn.org/stable/modules/cross_validation.html#k-fold)\n",
    "\n",
    "[Cross-Val-Score](https://scikit-learn.org/stable/modules/generated/sklearn.model_selection.cross_val_score.html#sklearn.model_selection.cross_val_score)\n",
    "\n",
    "Se hizo una implementacion básica de Cross validation para calcular un score.\n",
    "\n",
    "- Determinamos en cuantas partes queremos dividir nuestro dataset.\n",
    "\n",
    "- De cada uno obtenemos una lista de scores, estos son errores medios cuadraticos de cada split.\n",
    "\n",
    "- Sacamos la media de esos errores\n",
    "\n",
    "- Obtenemos el valor final real sacando su valor absoluto.\n"
   ]
  },
  {
   "cell_type": "markdown",
   "metadata": {},
   "source": [
    "## Importamos librerías\n"
   ]
  },
  {
   "cell_type": "code",
   "execution_count": 7,
   "metadata": {},
   "outputs": [],
   "source": [
    "import pandas as pd\n",
    "import numpy as np\n",
    "from sklearn.tree import DecisionTreeRegressor\n",
    "from sklearn.model_selection import cross_val_score, KFold\n",
    "from sklearn.metrics import mean_squared_error"
   ]
  },
  {
   "cell_type": "markdown",
   "metadata": {},
   "source": [
    "## Cargamos datos:\n"
   ]
  },
  {
   "cell_type": "code",
   "execution_count": 2,
   "metadata": {},
   "outputs": [],
   "source": [
    "dataset = pd.read_csv(\"../data/felicidad.csv\")\n",
    "data = dataset.drop([\"country\", \"score\", \"rank\"], axis=1)\n",
    "target = dataset[\"score\"]"
   ]
  },
  {
   "cell_type": "markdown",
   "metadata": {},
   "source": [
    "## Implementación básica:\n"
   ]
  },
  {
   "cell_type": "code",
   "execution_count": 4,
   "metadata": {},
   "outputs": [
    {
     "name": "stdout",
     "output_type": "stream",
     "text": [
      "---- Easy Implementation ----\n",
      "Scores:  [-0.90219629 -0.15716254 -1.05852282]\n",
      "Mean score:  0.7059605516801576\n",
      "=================================================================\n"
     ]
    }
   ],
   "source": [
    "models = {\"DecisionTreeRegressor\": DecisionTreeRegressor()}\n",
    "print(\"---- Easy Implementation ----\")\n",
    "\n",
    "for name, model in models.items():\n",
    "    score = cross_val_score(model, data, target, cv=3, scoring=\"neg_mean_squared_error\")\n",
    "    print(\"Scores: \", score)\n",
    "    print(\"Mean score: \", np.abs(np.mean(score)))\n",
    "\n",
    "print(\"=\" * 65)"
   ]
  },
  {
   "cell_type": "markdown",
   "metadata": {},
   "source": [
    "[Selection KFold](https://scikit-learn.org/stable/modules/generated/sklearn.model_selection.KFold.html?highlight=kfold#sklearn.model_selection.KFold)\n",
    "\n",
    "Se hizo una implementación más sofisticada de K Fold Cross validation para calcular separar los datos en sus respectivos dataset y poder entrenar a nuestro modelo manualmente.\n"
   ]
  },
  {
   "cell_type": "code",
   "execution_count": 6,
   "metadata": {},
   "outputs": [],
   "source": [
    "def train_test_split_kf(\n",
    "    data: np.array, target: np.array, train: np.array, test: np.array\n",
    ") -> np.array:\n",
    "    X_train = data[train]\n",
    "    X_test = data[test]\n",
    "    y_train = target[train]\n",
    "    y_test = target[test]\n",
    "    return X_train, X_test, y_train, y_test"
   ]
  },
  {
   "cell_type": "code",
   "execution_count": 8,
   "metadata": {},
   "outputs": [],
   "source": [
    "def evaluate_model(model, metric, X_train, X_test, y_train, y_test):\n",
    "    model.fit(X_train, y_train)\n",
    "    y_pred = model.predict(X_test)\n",
    "    score = metric(y_test, y_pred)\n",
    "    return score"
   ]
  },
  {
   "cell_type": "code",
   "execution_count": 9,
   "metadata": {},
   "outputs": [
    {
     "name": "stdout",
     "output_type": "stream",
     "text": [
      "---- Full Implementation ----\n",
      "I'm evaluating DecisionTreeRegressor\n",
      "\tI'm running fold 1\n",
      "\t\t- Score:  0.007391197122189316\n",
      "\tI'm running fold 2\n",
      "\t\t- Score:  0.009079884722485148\n",
      "\tI'm running fold 3\n",
      "\t\t- Score:  0.006202626635767081\n",
      "=================================================================\n",
      "Score:  [0.007391197122189316, 0.009079884722485148, 0.006202626635767081]\n",
      "Mean score:  0.007557902826813848\n"
     ]
    }
   ],
   "source": [
    "kf = KFold(n_splits=3, shuffle=True, random_state=42)\n",
    "scores = []\n",
    "print(\"---- Full Implementation ----\")\n",
    "for name, model in models.items():\n",
    "    print(f\"I'm evaluating {name}\")\n",
    "    for n_fold, (train, test) in enumerate(kf.split(data)):\n",
    "        print(f\"\\tI'm running fold {n_fold + 1}\")\n",
    "        X_train, X_test, y_train, y_test = train_test_split_kf(\n",
    "            data.values, target.values, train, test\n",
    "        )\n",
    "        score = evaluate_model(\n",
    "            model, mean_squared_error, X_train, X_test, y_train, y_test\n",
    "        )\n",
    "        print(\"\\t\\t- Score: \", score)\n",
    "        scores.append(score)\n",
    "    print(\"=\" * 65)\n",
    "    print(\"Score: \", scores)\n",
    "    print(\"Mean score: \", np.mean(scores))"
   ]
  }
 ],
 "metadata": {
  "kernelspec": {
   "display_name": "venv",
   "language": "python",
   "name": "python3"
  },
  "language_info": {
   "codemirror_mode": {
    "name": "ipython",
    "version": 3
   },
   "file_extension": ".py",
   "mimetype": "text/x-python",
   "name": "python",
   "nbconvert_exporter": "python",
   "pygments_lexer": "ipython3",
   "version": "3.11.8"
  }
 },
 "nbformat": 4,
 "nbformat_minor": 2
}
